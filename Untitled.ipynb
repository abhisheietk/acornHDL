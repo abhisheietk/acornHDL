{
 "cells": [
  {
   "cell_type": "code",
   "execution_count": 2,
   "metadata": {
    "collapsed": false
   },
   "outputs": [
    {
     "name": "stdout",
     "output_type": "stream",
     "text": [
      "[[8, 0, 3, 9], [7, 9, 4, 4]]\n"
     ]
    }
   ],
   "source": [
    "%matplotlib inline \n",
    "from matplotlib import pyplot as plt\n",
    "import numpy as np\n",
    "from random import randrange\n",
    "numpoints = 4\n",
    "#a = [[randrange(0,10) for i in range(numpoints)], [randrange(0,10) for i in range(numpoints)]]\n",
    "a = [[8, 0, 3, 9], [7, 9, 4, 4]]\n",
    "print a"
   ]
  },
  {
   "cell_type": "code",
   "execution_count": 3,
   "metadata": {
    "collapsed": false
   },
   "outputs": [
    {
     "name": "stdout",
     "output_type": "stream",
     "text": [
      "6\n"
     ]
    },
    {
     "data": {
      "image/png": "[encoded data removed]",
      "text/plain": [
       "<matplotlib.figure.Figure at 0x7fe094bfaad0>"
      ]
     },
     "metadata": {},
     "output_type": "display_data"
    }
   ],
   "source": [
    "samples = 100\n",
    "x = a[0]\n",
    "y = a[1]\n",
    "xpoly = []\n",
    "ypoly = []\n",
    "\n",
    "def linearInterpolate(x0, x1, samples):\n",
    "    xd = 1.0*(x1-x0)/samples\n",
    "    return [x0+(j*xd) for j in range(samples+1)]\n",
    "\n",
    "def curvePoint(x0, x1, samples, n):\n",
    "    xd = 1.0*(x1-x0)/samples\n",
    "    return x0+(n*xd)\n",
    "\n",
    "def getCurve(xpoly, ypoly, samples):\n",
    "    if len(xpoly) > 1:\n",
    "        xcurve = []\n",
    "        ycurve = []\n",
    "        for i in range(len(xpoly)-1):\n",
    "            xc = []\n",
    "            yc = []\n",
    "            for j in range(samples+1): #zip(xpoly[i], xpoly[i+1]):\n",
    "                xc.append(curvePoint(xpoly[i][j], xpoly[i+1][j], samples, j))\n",
    "                yc.append(curvePoint(ypoly[i][j], ypoly[i+1][j], samples, j))\n",
    "            xcurve.append(xc)\n",
    "            ycurve.append(yc)\n",
    "        xpoly = xcurve\n",
    "        ypoly = ycurve\n",
    "    return xpoly, ypoly\n",
    "\n",
    "\n",
    "for i in range(numpoints-1):\n",
    "    xpoly.append(linearInterpolate(x[i], x[i+1], samples))\n",
    "    ypoly.append(linearInterpolate(y[i], y[i+1], samples))\n",
    "\n",
    "size = 20\n",
    "\n",
    "cmap = plt.get_cmap('gnuplot')\n",
    "colors = [cmap(i) for i in np.linspace(0, 1, 10)]\n",
    "c = 4\n",
    "plt.scatter(a[0], a[1], color=colors[c], s = size)\n",
    "size = size/2\n",
    "c = c+2\n",
    "print c\n",
    "for i,j in zip(xpoly, ypoly):\n",
    "    plt.plot(i,j, color=colors[c])\n",
    "\n",
    "while len(xpoly) > 1:\n",
    "    xpoly, ypoly = getCurve(xpoly, ypoly, samples)\n",
    "    size = size/2\n",
    "    c = (c+2)%10\n",
    "    for i,j in zip(xpoly, ypoly):\n",
    "        plt.plot(i,j, color=colors[c])\n",
    "        \n",
    "for i,j in zip(xpoly, ypoly):\n",
    "    plt.plot(i,j, color=colors[c], lw=4)\n",
    "plt.show()"
   ]
  },
  {
   "cell_type": "code",
   "execution_count": 225,
   "metadata": {
    "collapsed": false
   },
   "outputs": [
    {
     "name": "stdout",
     "output_type": "stream",
     "text": [
      "Overwriting main.c\n"
     ]
    }
   ],
   "source": [
    "%%writefile main.c\n",
    "#include <stdio.h>\n",
    "#include <stdlib.h>\n",
    "\n",
    "float* linearInterpolate(float x0, float x1, int samples){\n",
    "    float xd, *xarray;\n",
    "    int i;\n",
    "    xd = 1.0*(x1-x0)/samples;\n",
    "    xarray = malloc(sizeof(float)*(samples+1));\n",
    "    for (i=0; i < samples+1; i++){\n",
    "        xarray[i] = x0+(i*xd);\n",
    "    }\n",
    "    return xarray;\n",
    "}\n",
    "\n",
    "int main(void){\n",
    "    float points[2][2] = {{4, 6}, {7, 7}};\n",
    "    float *x, *y;\n",
    "    float *xpoly, *ypoly;\n",
    "    int i;\n",
    "    x = points[0];\n",
    "    y = points[1];\n",
    "    for (i=0; i <2-1; i++){\n",
    "        printf(\"%f\\n\", x[i]);\n",
    "        xpoly.append(linearInterpolate(x[i], x[i+1], samples))\n",
    "    ypoly.append(linearInterpolate(y[i], y[i+1], samples))\n",
    "    }\n",
    "    printf(\"hello World !!\");\n",
    "    return 0;\n",
    "}"
   ]
  },
  {
   "cell_type": "code",
   "execution_count": 226,
   "metadata": {
    "collapsed": false
   },
   "outputs": [
    {
     "name": "stdout",
     "output_type": "stream",
     "text": [
      "4.000000\r\n",
      "hello World !!"
     ]
    }
   ],
   "source": [
    "!gcc -o main main.c; ./main"
   ]
  },
  {
   "cell_type": "code",
   "execution_count": 227,
   "metadata": {
    "collapsed": false
   },
   "outputs": [
    {
     "name": "stdout",
     "output_type": "stream",
     "text": [
      "Overwriting main.c\n"
     ]
    }
   ],
   "source": [
    "%%writefile main.c\n",
    "#include <stdlib.h>\n",
    "#include <stdio.h>\n",
    "#define NUM_POINTS 5\n",
    "#define NUM_COMMANDS 2\n",
    "\n",
    "int main()\n",
    "{\n",
    "    char * commandsForGnuplot[] = {\"set title \\\"TITLEEEEE\\\"\", \"plot 'data.temp'\"};\n",
    "    double xvals[NUM_POINTS] = {1.0, 2.0, 3.0, 4.0, 5.0};\n",
    "    double yvals[NUM_POINTS] = {5.0 ,3.0, 1.0, 3.0, 5.0};\n",
    "    FILE * temp = fopen(\"data.temp\", \"w\");\n",
    "    /*Opens an interface that one can use to send commands as if they were typing into the\n",
    "     *     gnuplot command line.  \"The -persistent\" keeps the plot open even after your\n",
    "     *     C program terminates.\n",
    "     */\n",
    "    FILE * gnuplotPipe = popen (\"gnuplot -persistent\", \"w\");\n",
    "    int i;\n",
    "    for (i=0; i < NUM_POINTS; i++)\n",
    "    {\n",
    "    fprintf(temp, \"%lf %lf \\n\", xvals[i], yvals[i]); //Write the data to a temporary file\n",
    "    }\n",
    "\n",
    "    for (i=0; i < NUM_COMMANDS; i++)\n",
    "    {\n",
    "    fprintf(gnuplotPipe, \"%s \\n\", commandsForGnuplot[i]); //Send commands to gnuplot one by one.\n",
    "    }\n",
    "    return 0;\n",
    "}\n"
   ]
  },
  {
   "cell_type": "code",
   "execution_count": 229,
   "metadata": {
    "collapsed": true
   },
   "outputs": [],
   "source": [
    "!gcc -o main main.c; ./main"
   ]
  },
  {
   "cell_type": "code",
   "execution_count": 4,
   "metadata": {
    "collapsed": false
   },
   "outputs": [
    {
     "name": "stdout",
     "output_type": "stream",
     "text": [
      "Writing gnup.sh\n"
     ]
    }
   ],
   "source": [
    "%%writefile gnup.sh\n",
    "#!/usr/bin/gnuplot\n",
    "set terminal pngcairo  transparent enhanced font \"arial,10\" fontscale 1.0 size 600, 400 \n",
    "set output 'simple.2.png'\n",
    "set bar 1.000000 front\n",
    "set style circle radius graph 0.02, first 0.00000, 0.00000 \n",
    "set style ellipse size graph 0.05, 0.03, first 0.00000 angle 0 units xy\n",
    "set style textbox transparent margins  1.0,  1.0 border\n",
    "unset logscale\n",
    "unset paxis 1 tics\n",
    "unset paxis 2 tics\n",
    "unset paxis 3 tics\n",
    "unset paxis 4 tics\n",
    "unset paxis 5 tics\n",
    "unset paxis 6 tics\n",
    "unset paxis 7 tics\n",
    "set title \"Simple Plots\" \n",
    "set title  font \",20\" norotate\n",
    "set paxis 1 range [ * : * ] noreverse nowriteback\n",
    "set paxis 2 range [ * : * ] noreverse nowriteback\n",
    "set paxis 3 range [ * : * ] noreverse nowriteback\n",
    "set paxis 4 range [ * : * ] noreverse nowriteback\n",
    "set paxis 5 range [ * : * ] noreverse nowriteback\n",
    "set paxis 6 range [ * : * ] noreverse nowriteback\n",
    "set paxis 7 range [ * : * ] noreverse nowriteback\n",
    "set colorbox vertical origin screen 0.9, 0.2, 0 size screen 0.05, 0.6, 0 front  noinvert bdefault\n",
    "plot [-pi/2:pi] cos(x),-(sin(x) > sin(x+1) ? sin(x) : sin(x+1))"
   ]
  },
  {
   "cell_type": "code",
   "execution_count": 8,
   "metadata": {
    "collapsed": false
   },
   "outputs": [],
   "source": [
    "!./gnup.sh"
   ]
  },
  {
   "cell_type": "code",
   "execution_count": null,
   "metadata": {
    "collapsed": true
   },
   "outputs": [],
   "source": []
  }
 ],
 "metadata": {
  "hide_input": true,
  "kernelspec": {
   "display_name": "Python 2",
   "language": "python2",
   "name": "python2"
  },
  "language_info": {
   "codemirror_mode": {
    "name": "ipython",
    "version": 2
   },
   "file_extension": ".py",
   "mimetype": "text/x-python",
   "name": "python",
   "nbconvert_exporter": "python",
   "pygments_lexer": "ipython2",
   "version": "2.7.12"
  },
  "latex_envs": {
   "bibliofile": "biblio.bib",
   "cite_by": "apalike",
   "current_citInitial": 1,
   "eqLabelWithNumbers": true,
   "eqNumInitial": 0
  }
 },
 "nbformat": 4,
 "nbformat_minor": 2
}
